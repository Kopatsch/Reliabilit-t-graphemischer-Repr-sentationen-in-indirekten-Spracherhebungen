{
 "cells": [
  {
   "cell_type": "markdown",
   "metadata": {},
   "source": [
    "## Jupyter Notebook zur Berechnung der prozentualen Übereinstimmung der Lehrer\n",
    "\n",
    "Die Fragebögen aus den Maurer- und DWA- Befragungen wurden an Lehrkräfte im Zielgebiet verschickt. Gegeben der kurzen Zeitspanne zwischen den Untersuchungen und der Vielzahl der Fragebögen, liegt die Vermutung nahe, dass einige Lehrkräfte an beiden Befragungen teilgenommen haben.\n",
    "Die erste relevante Frage hierbei ist, wie viel Prozent der Lehrkräfte überschneiden sich? Dieses Notebook soll diese Frage beantworten.\n",
    "\n",
    "Uns liegt eine Tabelle vor, in der für jeden Befragungsort geschaut wurde, ob die Lehrkraft übereinstimmt oder nicht. Dabei ist zu beachten, dass lediglich die transkribierten Lehrernamen aus der DWA Befragung vorliegen. Die Lehrernamen der Maurerbefragung wurden bis jetzt noch nicht transkribiert. Außerdem werden Mehrfachnennungen von Lehrkräften in einem Bogen in der Tabelle auf mehrere Spalten aufgeteilt. Das führt dazu, dass die Fragebögen (sowohl DWA als auch Maurer) oft mehrfach in der Tabelle vorkommen und die Orte entsprechend auch mehrfach vorkommen.\n",
    "\n",
    "Im Folgenden werden also mehrere, unterschiedlich komplexe Ansätze ausprobiert, um eine prozentuale Annäherung zu erreichen."
   ]
  },
  {
   "cell_type": "code",
   "execution_count": 1,
   "metadata": {},
   "outputs": [],
   "source": [
    "import pandas as pd\n",
    "\n",
    "df = pd.read_csv(\"/home/kopatsch/Masterarbeit/MA/masterarbeit/data/csv_teacher/DWA_Maurer_Lehrerabgleich.csv\", sep = \"\\t\")\n",
    "df[\"coord\"] = df[\"LONG\"].astype(str) + \", \" + df[\"LAT\"].astype(str)"
   ]
  },
  {
   "cell_type": "code",
   "execution_count": 2,
   "metadata": {},
   "outputs": [],
   "source": [
    "df2 = pd.read_csv(\"/home/kopatsch/Masterarbeit/MA/masterarbeit/data/csv_gesamt/all_words.csv\", sep = \"\\t\")\n",
    "df2[\"coord\"] = df2[\"Longitude\"].astype(str) + \", \" + df2[\"Latitude\"].astype(str)"
   ]
  },
  {
   "cell_type": "markdown",
   "metadata": {},
   "source": [
    "## 1. Ansatz\n",
    "\n",
    "Die Tabelle wird nicht bereinigt. Aus allen vorkommenden Daten wird ermittelt, welcher Prozentsatz mit \"1.0\" (Übereinstimmung) bewertet wurde. Das Ergebnis sind ca. 51% Übereinstimmung. Dies beantwortet vermutlich am ehesten die Frage, wie viel Prozent der Lehrer übereinstimmen."
   ]
  },
  {
   "cell_type": "code",
   "execution_count": 3,
   "metadata": {},
   "outputs": [
    {
     "name": "stdout",
     "output_type": "stream",
     "text": [
      "0.508336168764886\n"
     ]
    }
   ],
   "source": [
    "wert1 = len(df[\"Lehrer.übereinstimmend_clean\"])\n",
    "wert = [x for x in df[\"Lehrer.übereinstimmend_clean\"] if x == 1.0]\n",
    "wert2 = len(wert)\n",
    "\n",
    "diff = wert2/wert1\n",
    "\n",
    "print(diff)\n",
    "# Ergebnis: 0.508336168764886"
   ]
  },
  {
   "cell_type": "code",
   "execution_count": 4,
   "metadata": {},
   "outputs": [],
   "source": [
    "df0 = df.drop([\"Fragebogen-Nr._Maurer\", \"lfd_Maurer\", \"GID\", \"Ort\", \"LONG\", \"LAT\", \"Bearbeiten/in_DWA\", \"Digi_Index\", \"Name.d..Lehrers_DWA\", \"Geburtsort.d..Lehrers_DWA\", \"Lehrer.übereinstimmend\", \"Korrektur\", \"übereinst..Lehrer.ist.Einsender\", \"übereinst..Lehrer.ist.Beantworter\", \"überprüft.von\", \"Dubletten.DWA\"], axis = 1)"
   ]
  },
  {
   "cell_type": "markdown",
   "metadata": {},
   "source": [
    "## 2. Ansatz\n",
    "\n",
    "Der Datensatz wird mittels der Orts-ID (GID) zusammengefasst und für jeden Ort ein Mittelwert gebildet.\n",
    "Bei dieser Berechnung kommt man auch knapp 60% Übereinstimmung. Dieser Wert gibt an, dass an durchschnittlich 60% der Orte die gleiche Lehrkraft in die Beantwortung oder Einsendung der Fragebögen involviert war."
   ]
  },
  {
   "cell_type": "code",
   "execution_count": 5,
   "metadata": {},
   "outputs": [
    {
     "name": "stdout",
     "output_type": "stream",
     "text": [
      "0.5965142695746147\n"
     ]
    }
   ],
   "source": [
    "df1 = df0.groupby(\"coord\").mean()\n",
    "df1 = df1.fillna(0)\n",
    "\n",
    "wert1 = len(df1[\"Lehrer.übereinstimmend_clean\"])\n",
    "wert = [x for x in df1[\"Lehrer.übereinstimmend_clean\"] if x != 0.0]\n",
    "wert2 = sum(wert)\n",
    "\n",
    "diff = wert2/wert1\n",
    "print(diff)\n",
    "\n",
    "# Ergebnis: 0.5965142695746147"
   ]
  },
  {
   "cell_type": "markdown",
   "metadata": {},
   "source": [
    "## 3. Ansatz\n",
    "\n",
    "Hier wird die selbe Idee wie bei Ansatz 2 verfolgt. Allerdings wird statt des Mittelwertes der Maximalwert für jeden Ort angegeben. Das bedeutet, dass man einen Ort, an dem mehrere Fragebögen und mehrere Lehrer beteiligt waren, als übereinstimmend wertet, wenn mindestens eine dieser Personen bei beiden Befragungen beteiligt war.\n",
    "Mit dieser Methode kann davon ausgegangen werden, dass an ca. 63 % der Orte die gleiche Lehrkraft in die Beantwortung oder Einsendung der Fragebögen involviert war."
   ]
  },
  {
   "cell_type": "code",
   "execution_count": 6,
   "metadata": {},
   "outputs": [
    {
     "name": "stdout",
     "output_type": "stream",
     "text": [
      "0.6302681992337165\n"
     ]
    }
   ],
   "source": [
    "df3 = df0.groupby(\"coord\").max()\n",
    "df3 = df3.fillna(0)\n",
    "\n",
    "wert1 = len(df3[\"Lehrer.übereinstimmend_clean\"])\n",
    "wert = [x for x in df3[\"Lehrer.übereinstimmend_clean\"] if x != 0.0]\n",
    "wert2 = sum(wert)\n",
    "\n",
    "diff = wert2/wert1\n",
    "print(diff)\n",
    "\n",
    "# Ergebnis: 0.6302681992337165"
   ]
  },
  {
   "cell_type": "markdown",
   "metadata": {},
   "source": [
    "## 4. Ansatz\n",
    "\n",
    "Im Folgenden wird die Lehrerdatei noch ergänzt um die Fragebögen, die in der Lehrerdatei nicht vorkommen. Disen Orte wird eine Übereinstimmung von \"0.0\" (also keine Übereinstimmung) zugewiesen.\n",
    "\n",
    "Danach werden sowohl die unbereinigte Berechnung, als auch die Mittelwert- und Maximummethode nochmals durchgeführt. Die Ergebnisse sind entsprechend etwa 47%, 53% und 56% Übereinstimmung."
   ]
  },
  {
   "cell_type": "code",
   "execution_count": 7,
   "metadata": {},
   "outputs": [],
   "source": [
    "for fragebogen in df[\"Fragebogen-Nr._Maurer\"]:\n",
    "    for element in df2[\"Fragebogen Nr.\"]:\n",
    "        if fragebogen == element:\n",
    "            index = df2.loc[df2[\"Fragebogen Nr.\"] == element][\"Unnamed: 0\"]\n",
    "            #print(index)\n",
    "            df2 = df2.drop(index, axis = 0)\n",
    "            #print(len(df2))\n",
    "\n",
    "for digi in df[\"Digi_Index\"]:\n",
    "    for element in df2[\"Fragebogen Nr.\"]:\n",
    "        if digi == element:\n",
    "            index = df2.loc[df2[\"Fragebogen Nr.\"] == element][\"Unnamed: 0\"]\n",
    "            #print(index)\n",
    "            df2 = df2.drop(index, axis = 0)\n",
    "            #print(len(df2))\n",
    "    "
   ]
  },
  {
   "cell_type": "code",
   "execution_count": 8,
   "metadata": {},
   "outputs": [
    {
     "name": "stdout",
     "output_type": "stream",
     "text": [
      "279\n"
     ]
    }
   ],
   "source": [
    "# 279 Fragebögen konnten zur Lehrerdatei hinzugefügt werden\n",
    "print(len(df2))"
   ]
  },
  {
   "cell_type": "code",
   "execution_count": 9,
   "metadata": {},
   "outputs": [],
   "source": [
    "# die zwei DataFrames werden über die Fragebogen-Nummer zusammengeführt \n",
    "df2.columns = df2.columns.str.replace(\"Fragebogen Nr.\", \"Fragebogen-Nr._Maurer\")\n",
    "df2 = df2.fillna(0)\n",
    "a = pd.concat([df, df2], axis = 0)\n",
    "a = a.fillna(0)"
   ]
  },
  {
   "cell_type": "code",
   "execution_count": 10,
   "metadata": {},
   "outputs": [
    {
     "name": "stdout",
     "output_type": "stream",
     "text": [
      "0.4642635177128651\n"
     ]
    }
   ],
   "source": [
    "wert1 = len(a[\"Lehrer.übereinstimmend_clean\"])\n",
    "wert = [x for x in a[\"Lehrer.übereinstimmend_clean\"] if x == 1.0]\n",
    "wert2 = len(wert)\n",
    "diff = wert2/wert1\n",
    "\n",
    "print(diff)\n",
    "\n",
    "# Ergebnis: 0.4642635177128651"
   ]
  },
  {
   "cell_type": "code",
   "execution_count": 11,
   "metadata": {},
   "outputs": [],
   "source": [
    "b = pd.DataFrame()\n",
    "b[\"coord\"] = a[\"coord\"]\n",
    "b[\"Lehrer.übereinstimmend_clean\"] = a[\"Lehrer.übereinstimmend_clean\"]"
   ]
  },
  {
   "cell_type": "code",
   "execution_count": 12,
   "metadata": {},
   "outputs": [
    {
     "name": "stdout",
     "output_type": "stream",
     "text": [
      "0.5286380293205185\n"
     ]
    }
   ],
   "source": [
    "a1 = b.groupby(\"coord\").mean()\n",
    "\n",
    "wert1 = len(a1[\"Lehrer.übereinstimmend_clean\"])\n",
    "wert = [x for x in a1[\"Lehrer.übereinstimmend_clean\"] if x != 0.0]\n",
    "wert2 = sum(wert)\n",
    "\n",
    "diff = wert2/wert1\n",
    "print(diff)\n",
    "\n",
    "# Ergebnis: 0.5286380293205185"
   ]
  },
  {
   "cell_type": "code",
   "execution_count": 13,
   "metadata": {},
   "outputs": [
    {
     "name": "stdout",
     "output_type": "stream",
     "text": [
      "0.5590484282073067\n"
     ]
    }
   ],
   "source": [
    "a2 = b.groupby(\"coord\").max()\n",
    "\n",
    "wert1 = len(a2[\"Lehrer.übereinstimmend_clean\"])\n",
    "wert = [x for x in a2[\"Lehrer.übereinstimmend_clean\"] if x != 0.0]\n",
    "wert2 = sum(wert)\n",
    "\n",
    "diff = wert2/wert1\n",
    "print(diff)\n",
    "\n",
    "# Ergebnis: 0.5590484282073067"
   ]
  }
 ],
 "metadata": {
  "kernelspec": {
   "display_name": "Python 3",
   "language": "python",
   "name": "python3"
  },
  "language_info": {
   "codemirror_mode": {
    "name": "ipython",
    "version": 3
   },
   "file_extension": ".py",
   "mimetype": "text/x-python",
   "name": "python",
   "nbconvert_exporter": "python",
   "pygments_lexer": "ipython3",
   "version": "3.8.10"
  }
 },
 "nbformat": 4,
 "nbformat_minor": 2
}
