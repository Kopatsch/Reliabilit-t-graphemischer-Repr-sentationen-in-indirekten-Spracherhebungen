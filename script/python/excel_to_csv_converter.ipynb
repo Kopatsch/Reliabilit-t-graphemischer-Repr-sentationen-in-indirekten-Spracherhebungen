{
 "cells": [
  {
   "cell_type": "markdown",
   "metadata": {},
   "source": [
    "## Jupyter Notebook zur Umwandlng von Excel-Dateien in csv-Dateien\n",
    "\n",
    "Dieses Notebook wandelt einerseits Excel Datein in csv-Dateien um. Andererseits generiert es Metadaten, indem eine Datei erzeugt wird, in der alle Unicode Zeichen aufgelistet werden, die in dem Datensatz vorkommen."
   ]
  },
  {
   "cell_type": "code",
   "execution_count": 1,
   "metadata": {},
   "outputs": [],
   "source": [
    "# Code zur Umwandlung aller Dateien in einem Ordner\n",
    "\n",
    "import os\n",
    "import pandas as pd\n",
    "\n",
    "\n",
    "path = \"/home/kopatsch/Masterarbeit/MA/masterarbeit/data/excel_words/\"\n",
    "entries = os.listdir(path)\n",
    "\n",
    "for i in entries:\n",
    "    read_file = pd.read_excel(f\"{path}{i}\")\n",
    "\n",
    "    j = i.split(\"_07\")\n",
    "  \n",
    "    read_file.to_csv (f\"/home/kopatsch/Masterarbeit/MA/masterarbeit/data/csv/{j[0]}.csv\",  \n",
    "                        index = None, \n",
    "                        header=True, \n",
    "                        sep= \"\\t\", \n",
    "                        encoding=\"UTF-8\")"
   ]
  },
  {
   "cell_type": "code",
   "execution_count": 2,
   "metadata": {},
   "outputs": [],
   "source": [
    "def printer(character, word, entry, index):\n",
    "    if format(ord(character), '#08x') == \"0x000303\":\n",
    "        print(word, entry, df[\"Fragebogen\"][index])"
   ]
  },
  {
   "cell_type": "code",
   "execution_count": 3,
   "metadata": {},
   "outputs": [
    {
     "name": "stdout",
     "output_type": "stream",
     "text": [
      "bū̃t DWA_Maurer_Hagebutte.csv Stra H 11/1\n",
      "ō̃meis DWA_Maurer_Ameise.csv Stra H 11/1\n",
      "aamä̃is DWA_Maurer_Ameise.csv Stra t 13\n",
      "gä̃iß DWA_Maurer_Ziege.csv Stra t 13\n"
     ]
    }
   ],
   "source": [
    "import unicodedata\n",
    "import os\n",
    "import pandas as pd\n",
    "from collections import Counter\n",
    "\n",
    "path = '/home/kopatsch/Masterarbeit/MA/masterarbeit/data/csv/'\n",
    "entries = os.listdir(path)\n",
    "\n",
    "unicode_list = []\n",
    "\n",
    "for entry in entries:\n",
    "    df = pd.read_csv(f\"{path}{entry}\", sep = \"\\t\")\n",
    "\n",
    "    index = 0\n",
    "    for word in df[\"item\"]:\n",
    "        for character in word:\n",
    "            string = f\"{format(ord(character), '#08x')}\" + \"\\t\" + character + \"\\t\" + unicodedata.name(character)\n",
    "            unicode_list.append(string)\n",
    "\n",
    "            printer(character, word, entry, index)\n",
    "        index += 1 \n",
    "\n",
    "    index = 0\n",
    "    for word in df[\"phontype\"]:\n",
    "        for character in word:\n",
    "            string = f\"{format(ord(character), '#08x')}\" + \"\\t\" + character + \"\\t\" + unicodedata.name(character)\n",
    "            unicode_list.append(string)\n",
    "\n",
    "            printer(character, word, entry, index)\n",
    "        index += 1  \n",
    "\n",
    "    index = 0\n",
    "    for word in df[\"lextype\"]:\n",
    "        for character in word:\n",
    "            string = f\"{format(ord(character), '#08x')}\" + \"\\t\" + character + \"\\t\" + unicodedata.name(character)\n",
    "            unicode_list.append(string)\n",
    "\n",
    "            printer(character, word, entry, index)\n",
    "        index += 1 \n",
    "\n",
    "dictionary = Counter(unicode_list)\n",
    "dictionary = sorted(dictionary.items(), key=lambda pair: pair[1], reverse=True)\n",
    "\n",
    "file = open(\"/home/kopatsch/Masterarbeit/MA/masterarbeit/doku/meta/unicode.txt\", \"w\", encoding = \"utf-8\")\n",
    "\n",
    "for item in dictionary:\n",
    "    line = item[0] + \"\\t\" + str(item[1]) + \"\\n\"\n",
    "    file.write(line)\n",
    "\n",
    "file.close()"
   ]
  }
 ],
 "metadata": {
  "kernelspec": {
   "display_name": "base",
   "language": "python",
   "name": "python3"
  },
  "language_info": {
   "codemirror_mode": {
    "name": "ipython",
    "version": 3
   },
   "file_extension": ".py",
   "mimetype": "text/x-python",
   "name": "python",
   "nbconvert_exporter": "python",
   "pygments_lexer": "ipython3",
   "version": "3.8.10"
  }
 },
 "nbformat": 4,
 "nbformat_minor": 2
}
