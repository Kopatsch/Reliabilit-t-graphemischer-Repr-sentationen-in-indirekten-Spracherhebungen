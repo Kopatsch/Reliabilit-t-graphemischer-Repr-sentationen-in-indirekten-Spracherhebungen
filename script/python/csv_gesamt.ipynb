{
 "cells": [
  {
   "cell_type": "markdown",
   "metadata": {},
   "source": [
    "## Jupyter Notebook zur Zusammenfassung der Word-Datensätze in einer Gesamtdatei\n",
    "\n",
    "Um das Lehrer-Subset erstellen zu können, erscheint es sinnvoll, eine Datei zu haben, in der zu jedem Fragebogen alle Worte zusammengefasst sind."
   ]
  },
  {
   "cell_type": "code",
   "execution_count": 5,
   "metadata": {},
   "outputs": [],
   "source": [
    "import pandas as pd\n",
    "import os"
   ]
  },
  {
   "cell_type": "code",
   "execution_count": 6,
   "metadata": {},
   "outputs": [],
   "source": [
    "class Bogen:\n",
    "    def __init__(self, fragebogen, gid, long, lat, org, item, phontype, lextype, beleg, erhebung):\n",
    "        \"\"\"\n",
    "        Parameters:\n",
    "        fragebogen(str)\n",
    "        gid(int)\n",
    "        long(float)\n",
    "        lat(float)\n",
    "        beleg(int)\n",
    "        erhebung(str)\n",
    "\n",
    "        Returns:\n",
    "        Bogen object instance\n",
    "        \"\"\"\n",
    "        self.fragebogen = fragebogen\n",
    "        self.gid = gid\n",
    "        self.long = long\n",
    "        self.lat = lat\n",
    "\n",
    "        self.org = org\n",
    "        self.item = item\n",
    "        self.phontype = phontype\n",
    "        self.lextype = lextype\n",
    "        \n",
    "        self.beleg = beleg\n",
    "        self.erhebung = erhebung"
   ]
  },
  {
   "cell_type": "code",
   "execution_count": 7,
   "metadata": {},
   "outputs": [],
   "source": [
    "path = \"/home/kopatsch/Masterarbeit/MA/masterarbeit/data/csv/\"\n",
    "entries = os.listdir(path)\n",
    "entries = sorted(entries)\n",
    "\n",
    "ameise = []\n",
    "begräbnis = []\n",
    "deichsel = []\n",
    "elster = []\n",
    "fledermaus = []\n",
    "gurke = []\n",
    "hagebutte = []\n",
    "hebamme = []\n",
    "kartoffel = []\n",
    "maulwurf = []\n",
    "pflaume = []\n",
    "stecknadel = []\n",
    "ziege = []\n",
    "zimmerfliege = []\n",
    "\n",
    "variables = [ameise, begräbnis, deichsel, elster, fledermaus, gurke, hagebutte, hebamme, kartoffel, maulwurf, pflaume, stecknadel, ziege, zimmerfliege]\n",
    "\n",
    "# für alle Wort-Dateien wird eine Liste mit Objektinstanzen erstellt\n",
    "index = 0\n",
    "for entry in entries:\n",
    "    df_word = pd.read_csv(f\"{path}{entry}\", sep = \"\\t\")\n",
    "    df_trans = df_word.T\n",
    "\n",
    "    for i in df_trans:\n",
    "        bogen_object = Bogen(df_trans[i][1], df_trans[i][3], df_trans[i][4], df_trans[i][5], df_trans[i][6], df_trans[i][7], df_trans[i][8], df_trans[i][9], df_trans[i][10], df_trans[i][11])\n",
    "        variables[index].append(bogen_object)\n",
    "    \n",
    "    index += 1"
   ]
  },
  {
   "cell_type": "code",
   "execution_count": 8,
   "metadata": {},
   "outputs": [],
   "source": [
    "def unique(word, liste):\n",
    "    index = 1\n",
    "    ende = len(word)\n",
    "\n",
    "    save_list = []\n",
    "    \n",
    "    for ob1 in word:\n",
    "        switch = False\n",
    "        if (index + 1) != ende:\n",
    "            # um Rechenzeit zu sparen werden nur die Elemente mit i abgeglichen,\n",
    "            # die in der Liste nach i kommen\n",
    "            for ob2 in word[index::]:\n",
    "                if ob1.fragebogen == ob2.fragebogen:\n",
    "                    # org besteht bereits aus allem Belegen für einen Fragebogen\n",
    "                    ob2.item += f\", {ob1.item}\"\n",
    "                    ob2.phontype += f\", {ob1.phontype}\"\n",
    "                    ob2.lextype += f\", {ob1.lextype}\"\n",
    "                    switch = True\n",
    "                    # sobald eine Übereinstimmung gefunden wurde, bricht die Liste ab\n",
    "                    # die aktuelle Information ist immer im \"letzten\" Objekt enthalten\n",
    "                    break\n",
    "            # wenn der switch False bleibt, wurden keine weiteren Belege für diesen Fragebogen gefunden\n",
    "            # der Fragebogen kommt entweder nur 1 Mal vor oder er enthält bereits alle Belege\n",
    "            if switch == False:\n",
    "                save_list.append(ob1)\n",
    "        else:\n",
    "            save_list.append(ob1)\n",
    "        index += 1\n",
    "    \n",
    "    liste.append(save_list)"
   ]
  },
  {
   "cell_type": "code",
   "execution_count": 9,
   "metadata": {},
   "outputs": [],
   "source": [
    "gesamt_list = []\n",
    "for var in variables:\n",
    "    unique(var, gesamt_list)"
   ]
  },
  {
   "cell_type": "code",
   "execution_count": 10,
   "metadata": {},
   "outputs": [],
   "source": [
    "df_ameise = pd.DataFrame()\n",
    "df_begräbnis = pd.DataFrame()\n",
    "df_deichsel = pd.DataFrame()\n",
    "df_elster = pd.DataFrame()\n",
    "df_fledermaus = pd.DataFrame()\n",
    "df_gurke = pd.DataFrame()\n",
    "df_hagebutte = pd.DataFrame()\n",
    "df_hebamme = pd.DataFrame()\n",
    "df_kartoffel = pd.DataFrame()\n",
    "df_maulwurf = pd.DataFrame()\n",
    "df_pflaume = pd.DataFrame()\n",
    "df_stecknadel = pd.DataFrame()\n",
    "df_ziege = pd.DataFrame()\n",
    "df_zimmerfliege = pd.DataFrame()"
   ]
  },
  {
   "cell_type": "code",
   "execution_count": 11,
   "metadata": {},
   "outputs": [],
   "source": [
    "# zur Erstellung des DataFrames werden Listen von gleicher Länge gebraucht, \n",
    "# die als Spalten übergeben werden können\n",
    "def make_dataframe(liste, df, word):\n",
    "    fragebogen = []\n",
    "    long = []\n",
    "    lat = []\n",
    "    erhebung = []\n",
    "    org = []\n",
    "    item = []\n",
    "    phontype = []\n",
    "    lextype = []\n",
    "\n",
    "    for i in liste:\n",
    "        fragebogen.append(i.fragebogen)\n",
    "        long.append(i.long)\n",
    "        lat.append(i.lat)\n",
    "        erhebung.append(i.erhebung)\n",
    "\n",
    "        org.append(i.org)\n",
    "        item.append(i.item)\n",
    "        phontype.append(i.phontype)\n",
    "        lextype.append(i.lextype)\n",
    "\n",
    "    df[\"Fragebogen Nr.\"] = fragebogen\n",
    "    df[\"Longitude\"] = long\n",
    "    df[\"Latitude\"] = lat\n",
    "    df[\"Erhebung\"] = erhebung\n",
    "    df[f\"org {word}\"] = org\n",
    "    df[f\"item {word}\"] = item\n",
    "    df[f\"phontype {word}\"] = phontype\n",
    "    df[f\"lextype {word}\"] = lextype"
   ]
  },
  {
   "cell_type": "code",
   "execution_count": 12,
   "metadata": {},
   "outputs": [],
   "source": [
    "make_dataframe(gesamt_list[0], df_ameise, \"ameise\")\n",
    "make_dataframe(gesamt_list[1], df_begräbnis, \"begräbnis\")\n",
    "make_dataframe(gesamt_list[2], df_deichsel, \"deichsel\")\n",
    "make_dataframe(gesamt_list[3], df_elster, \"elster\")\n",
    "make_dataframe(gesamt_list[4], df_fledermaus, \"fledermaus\")\n",
    "make_dataframe(gesamt_list[5], df_gurke, \"gurke\")\n",
    "make_dataframe(gesamt_list[6], df_hagebutte, \"hagebutte\")\n",
    "make_dataframe(gesamt_list[7], df_hebamme, \"hebamme\")\n",
    "make_dataframe(gesamt_list[8], df_kartoffel, \"kartoffel\")\n",
    "make_dataframe(gesamt_list[9], df_maulwurf, \"maulwurf\")\n",
    "make_dataframe(gesamt_list[10], df_pflaume, \"pflaume\")\n",
    "make_dataframe(gesamt_list[11], df_stecknadel, \"stecknadel\")\n",
    "make_dataframe(gesamt_list[12], df_ziege, \"ziege\")\n",
    "make_dataframe(gesamt_list[13], df_zimmerfliege, \"zimmerfliege\")"
   ]
  },
  {
   "cell_type": "code",
   "execution_count": 13,
   "metadata": {},
   "outputs": [],
   "source": [
    "df_gesamt = pd.merge(df_ameise, df_begräbnis, how = \"outer\", on = [\"Fragebogen Nr.\", \"Longitude\", \"Latitude\", \"Erhebung\"])\n",
    "df_gesamt = pd.merge(df_gesamt, df_deichsel, how = \"outer\", on = [\"Fragebogen Nr.\", \"Longitude\", \"Latitude\", \"Erhebung\"])\n",
    "df_gesamt = pd.merge(df_gesamt, df_elster, how = \"outer\", on = [\"Fragebogen Nr.\", \"Longitude\", \"Latitude\", \"Erhebung\"])\n",
    "df_gesamt = pd.merge(df_gesamt, df_fledermaus, how = \"outer\", on = [\"Fragebogen Nr.\", \"Longitude\", \"Latitude\", \"Erhebung\"])\n",
    "df_gesamt = pd.merge(df_gesamt, df_gurke, how = \"outer\", on = [\"Fragebogen Nr.\", \"Longitude\", \"Latitude\", \"Erhebung\"])\n",
    "df_gesamt = pd.merge(df_gesamt, df_hagebutte, how = \"outer\", on = [\"Fragebogen Nr.\", \"Longitude\", \"Latitude\", \"Erhebung\"])\n",
    "df_gesamt = pd.merge(df_gesamt, df_hebamme, how = \"outer\", on = [\"Fragebogen Nr.\", \"Longitude\", \"Latitude\", \"Erhebung\"])\n",
    "df_gesamt = pd.merge(df_gesamt, df_kartoffel, how = \"outer\", on = [\"Fragebogen Nr.\", \"Longitude\", \"Latitude\", \"Erhebung\"])\n",
    "df_gesamt = pd.merge(df_gesamt, df_maulwurf, how = \"outer\", on = [\"Fragebogen Nr.\", \"Longitude\", \"Latitude\", \"Erhebung\"])\n",
    "df_gesamt = pd.merge(df_gesamt, df_pflaume, how = \"outer\", on = [\"Fragebogen Nr.\", \"Longitude\", \"Latitude\", \"Erhebung\"])\n",
    "df_gesamt = pd.merge(df_gesamt, df_stecknadel, how = \"outer\", on = [\"Fragebogen Nr.\", \"Longitude\", \"Latitude\", \"Erhebung\"])\n",
    "df_gesamt = pd.merge(df_gesamt, df_ziege, how = \"outer\", on = [\"Fragebogen Nr.\", \"Longitude\", \"Latitude\", \"Erhebung\"])\n",
    "df_gesamt = pd.merge(df_gesamt, df_zimmerfliege, how = \"outer\", on = [\"Fragebogen Nr.\", \"Longitude\", \"Latitude\", \"Erhebung\"])"
   ]
  },
  {
   "cell_type": "code",
   "execution_count": 14,
   "metadata": {},
   "outputs": [],
   "source": [
    "# kleine Korrekturen für die Weiterverwewndung\n",
    "df_gesamt = df_gesamt.replace(\"nan\", \"na\")\n",
    "df_gesamt = df_gesamt.fillna(\"na\")"
   ]
  },
  {
   "cell_type": "code",
   "execution_count": 15,
   "metadata": {},
   "outputs": [],
   "source": [
    "# speichern\n",
    "df_gesamt.to_csv(\"/home/kopatsch/Masterarbeit/MA/masterarbeit/data/csv_gesamt/all_words.csv\", sep = \"\\t\")"
   ]
  }
 ],
 "metadata": {
  "kernelspec": {
   "display_name": "Python 3",
   "language": "python",
   "name": "python3"
  },
  "language_info": {
   "codemirror_mode": {
    "name": "ipython",
    "version": 3
   },
   "file_extension": ".py",
   "mimetype": "text/x-python",
   "name": "python",
   "nbconvert_exporter": "python",
   "pygments_lexer": "ipython3",
   "version": "3.8.10"
  }
 },
 "nbformat": 4,
 "nbformat_minor": 2
}
