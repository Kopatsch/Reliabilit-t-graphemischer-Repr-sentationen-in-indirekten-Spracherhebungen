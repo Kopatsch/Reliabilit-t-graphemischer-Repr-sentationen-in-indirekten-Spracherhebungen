{
 "cells": [
  {
   "cell_type": "markdown",
   "metadata": {},
   "source": [
    "## Jupyter Notebook zur Summierung der Levenshtein Werte pro Ort\n",
    "\n",
    "Ein Ansatz, um räumliche Unterschiede herauszufinden ist, die Levenshtein Distanzen pro Ort zu summieren.\n",
    "Daraus werden erneut Karten erstellt."
   ]
  },
  {
   "cell_type": "code",
   "execution_count": 1,
   "metadata": {},
   "outputs": [],
   "source": [
    "import pandas as pd\n",
    "\n",
    "words = [\"ameise\", \"begräbnis\", \"deichsel\", \"elster\", \"fledermaus\", \"gurke\", \"hagebutte\", \"hebamme\", \"kartoffel\", \"maulwurf\", \"pflaume\", \"stecknadel\", \"ziege\", \"zimmerfliege\"]"
   ]
  },
  {
   "cell_type": "code",
   "execution_count": 2,
   "metadata": {},
   "outputs": [],
   "source": [
    "df_gesamt = pd.DataFrame()\n",
    "for word in words:\n",
    "    df = pd.read_csv(f\"/home/kopatsch/Masterarbeit/MA/masterarbeit/data/levenshtein_single_files/{word}.csv\", sep = \"\\t\", index_col = False)\n",
    "    df_gesamt = pd.concat([df_gesamt, df], ignore_index = True)\n",
    "\n",
    "df_gesamt = df_gesamt.drop(columns = [\"Unnamed: 0\"])\n",
    "df_gesamt['Levenshtein Item Min'] = df_gesamt['Levenshtein Item Min'].replace(999, 0)\n",
    "df_gesamt['Levenshtein Phontype Min'] = df_gesamt['Levenshtein Phontype Min'].replace(999, 0)\n",
    "df_gesamt['Levenshtein Lextype Min'] = df_gesamt['Levenshtein Lextype Min'].replace(999, 0)\n",
    "df_gesamt['z_score_item'] = df_gesamt['z_score_item'].replace(527.7358915701176, 0)\n",
    "df_gesamt['z_score_phontype'] = df_gesamt['z_score_phontype'].replace(529.1860287263053, 0)\n",
    "df_gesamt['z_score_lextype'] = df_gesamt['z_score_lextype'].replace(529.091394870162, 0)\n",
    "df_gesamt[\"Koordinaten\"] = df_gesamt[\"Longitude\"].astype(str) + \", \" + df_gesamt[\"Latitude\"].astype(str)"
   ]
  },
  {
   "cell_type": "code",
   "execution_count": 3,
   "metadata": {},
   "outputs": [],
   "source": [
    "df_final = df_gesamt.groupby(\"Koordinaten\").sum()\n",
    "\n",
    "df_final = df_final.drop(columns = [\"Ort\", \"Item Maurer\", \"Item DWA\", \"Phontype Maurer\", \"Phontype DWA\", \"Lextype Maurer\", \"Lextype DWA\"])\n",
    "\n",
    "maurer = []\n",
    "for i in df_final[\"Fragebogen-Nr. Maurer\"]:\n",
    "    length = len(i)\n",
    "    part = int(length/14)\n",
    "    maurer.append(i[0:part])\n",
    "\n",
    "df_final[\"Fragebogen-Nr. Maurer\"] = maurer\n",
    "\n",
    "dwa = []\n",
    "for j in df_final[\"Fragebogen-Nr. DWA\"]:\n",
    "    length = len(j)\n",
    "    part = int(length/14)\n",
    "    dwa.append(j[0:part])\n",
    "\n",
    "df_final[\"Fragebogen-Nr. DWA\"] = dwa\n",
    "\n",
    "long = []\n",
    "lat = []\n",
    "for x in df_final.index:\n",
    "    split = x.split(\", \")\n",
    "    lo = float(split[0])\n",
    "    la = float(split[1])\n",
    "    long.append(lo)\n",
    "    lat.append(la)\n",
    "\n",
    "df_final[\"Longitude\"] = long\n",
    "df_final[\"Latitude\"] = lat\n"
   ]
  },
  {
   "cell_type": "code",
   "execution_count": 4,
   "metadata": {},
   "outputs": [],
   "source": [
    "# speichern\n",
    "df_final.to_csv(\"/home/kopatsch/Masterarbeit/MA/masterarbeit/data/levenshtein_gesamt/levenshtein_gesamt.csv\", sep = \"\\t\")"
   ]
  }
 ],
 "metadata": {
  "kernelspec": {
   "display_name": "Python 3",
   "language": "python",
   "name": "python3"
  },
  "language_info": {
   "codemirror_mode": {
    "name": "ipython",
    "version": 3
   },
   "file_extension": ".py",
   "mimetype": "text/x-python",
   "name": "python",
   "nbconvert_exporter": "python",
   "pygments_lexer": "ipython3",
   "version": "3.8.10"
  }
 },
 "nbformat": 4,
 "nbformat_minor": 2
}
