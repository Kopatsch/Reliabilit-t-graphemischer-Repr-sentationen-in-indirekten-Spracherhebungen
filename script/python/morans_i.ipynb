{
 "cells": [
  {
   "cell_type": "markdown",
   "metadata": {},
   "source": [
    "https://mgimond.github.io/Spatial/spatial-autocorrelation.html\n",
    "\n",
    "https://www.fes.de/koordinatensysteme -> benachbarte Koordinaten +/- 0.1 (ca. 10km)"
   ]
  },
  {
   "cell_type": "code",
   "execution_count": 1,
   "metadata": {},
   "outputs": [],
   "source": [
    "import pandas as pd\n",
    "import numpy as np\n",
    "\n",
    "words = [\"ameise\", \"begräbnis\", \"deichsel\", \"elster\", \"fledermaus\", \"gurke\", \"hagebutte\", \"hebamme\", \"kartoffel\", \"maulwurf\", \"pflaume\", \"stecknadel\", \"ziege\", \"zimmerfliege\"]"
   ]
  },
  {
   "cell_type": "code",
   "execution_count": 2,
   "metadata": {},
   "outputs": [],
   "source": [
    "for word in words:\n",
    "    df = pd.read_csv(f\"/home/kopatsch/Masterarbeit/MA/masterarbeit/data/levenshtein_single_files/{word}.csv\", sep = \"\\t\")\n",
    "    df = df.drop(columns = [\"Unnamed: 0\", \"Fragebogen-Nr. Maurer\", \"Fragebogen-Nr. DWA\", \"Item Maurer\", \"Item DWA\", \"z_score_item\", \"Phontype Maurer\", \"Phontype DWA\", \"z_score_phontype\", \"Lextype Maurer\", \"Lextype DWA\", \"z_score_lextype\"])\n",
    "    df_item = df.drop(columns = [\"Levenshtein Phontype Min\", \"Levenshtein Lextype Min\"])\n",
    "    df_item = df_item.drop(df[df[\"Levenshtein Item Min\"] == 999].index)\n",
    "    df_item = df_item.reset_index(drop=True)\n",
    "\n",
    "    liste = list(df_item[\"Levenshtein Item Min\"])\n",
    "    mittel = np.mean(liste)\n",
    "    stvar = np.std(liste)\n",
    "    df_item[\"z_score\"] = ((df_item[\"Levenshtein Item Min\"]-mittel)/stvar)\n",
    "\n",
    "    df_item_t = df_item.T\n",
    "\n",
    "    array_list = []\n",
    "    for id_1 in df_item_t:\n",
    "        liste = []\n",
    "        for id_2 in df_item_t:\n",
    "            if id_1 != id_2 and (df_item_t[id_1][1] + 0.1) >= df_item_t[id_2][1] and (df_item_t[id_1][1] - 0.1) <= df_item_t[id_2][1] and (df_item_t[id_1][2] + 0.1) >= df_item_t[id_2][2] and (df_item_t[id_1][2] - 0.1) <= df_item_t[id_2][2]:\n",
    "                liste.append(1)\n",
    "            else:\n",
    "                liste.append(0)\n",
    "        array_list.append(liste)\n",
    "    array = np.array(array_list)\n",
    "    array_t = array.transpose()\n",
    "\n",
    "    liste_array_new = []\n",
    "    for array in array_t:\n",
    "        array_n = [i for i in array if i != 0]\n",
    "        length = len(array_n)\n",
    "        if length == 0:\n",
    "            mittel = 0\n",
    "        else:\n",
    "            mittel = 1/length\n",
    "        array2 = [mittel if x!=0 else x for x in array]\n",
    "        liste_array_new.append(array2)\n",
    "    array_new = np.array(liste_array_new)\n",
    "    array_new_t = array_new.transpose()\n",
    "\n",
    "    liste_moran = []\n",
    "    index_liste = 0\n",
    "    for liste in array_new_t:\n",
    "        index = 0\n",
    "        m = 0\n",
    "        for element in liste:\n",
    "            prod = element * df_item_t[index][4]\n",
    "            m += prod\n",
    "            index += 1\n",
    "        moran = m * df_item_t[index_liste][4]\n",
    "        liste_moran.append(moran)\n",
    "        index_liste += 1\n",
    "\n",
    "    df_item_2 = df_item_t.T\n",
    "    df_item_2[\"morans_i\"] = liste_moran\n",
    "    df_item_2.to_csv(f\"/home/kopatsch/Masterarbeit/MA/masterarbeit/data/local_morans_i/moran_{word}.csv\", sep = \"\\t\", index = False)"
   ]
  }
 ],
 "metadata": {
  "kernelspec": {
   "display_name": "Python 3",
   "language": "python",
   "name": "python3"
  },
  "language_info": {
   "codemirror_mode": {
    "name": "ipython",
    "version": 3
   },
   "file_extension": ".py",
   "mimetype": "text/x-python",
   "name": "python",
   "nbconvert_exporter": "python",
   "pygments_lexer": "ipython3",
   "version": "3.8.10"
  }
 },
 "nbformat": 4,
 "nbformat_minor": 2
}
